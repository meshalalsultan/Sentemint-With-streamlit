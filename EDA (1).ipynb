{
  "nbformat": 4,
  "nbformat_minor": 0,
  "metadata": {
    "language_info": {
      "codemirror_mode": {
        "name": "ipython",
        "version": 3
      },
      "file_extension": ".py",
      "mimetype": "text/x-python",
      "name": "python",
      "nbconvert_exporter": "python",
      "pygments_lexer": "ipython3",
      "version": "3.8.2-final"
    },
    "orig_nbformat": 2,
    "kernelspec": {
      "name": "python38264bite84b124442704c849c31aeb5e83ba2bc",
      "display_name": "Python 3.8.2 64-bit"
    },
    "colab": {
      "name": "EDA.ipynb",
      "provenance": []
    }
  },
  "cells": [
    {
      "cell_type": "code",
      "metadata": {
        "id": "cErFHSKn8TTO",
        "colab_type": "code",
        "colab": {}
      },
      "source": [
        "import numpy as np\n",
        "import pandas as pd\n",
        "import gc\n",
        "import plotly.graph_objects as go\n",
        "import matplotlib.pyplot as plt\n",
        "from sklearn.model_selection import train_test_split\n",
        "from sklearn.feature_extraction.text import TfidfVectorizer\n",
        "from sklearn.metrics import confusion_matrix, accuracy_score\n",
        "\n",
        "\n",
        "from sklearn.linear_model import LogisticRegression\n",
        "from sklearn.svm import LinearSVC\n",
        "from sklearn.naive_bayes import BernoulliNB\n",
        "from sklearn.naive_bayes import MultinomialNB\n",
        "\n",
        "from sklearn.metrics import f1_score\n",
        "from sklearn.metrics import accuracy_score\n",
        "from sklearn.metrics import confusion_matrix\n",
        "from mlxtend.plotting import plot_confusion_matrix\n",
        "\n",
        "import xgboost\n",
        "\n",
        "from nltk.corpus import stopwords\n",
        "from nltk.tokenize import word_tokenize\n",
        "from nltk.stem import WordNetLemmatizer\n",
        "\n",
        "import pickle\n"
      ],
      "execution_count": 1,
      "outputs": []
    },
    {
      "cell_type": "code",
      "metadata": {
        "id": "9ZcKxyqw8TTW",
        "colab_type": "code",
        "colab": {
          "base_uri": "https://localhost:8080/",
          "height": 68
        },
        "outputId": "70431e16-d5c1-4882-d7ff-16600d700b92"
      },
      "source": [
        "import nltk\n",
        "nltk.download('wordnet')"
      ],
      "execution_count": 2,
      "outputs": [
        {
          "output_type": "stream",
          "text": [
            "[nltk_data] Downloading package wordnet to /root/nltk_data...\n",
            "[nltk_data]   Package wordnet is already up-to-date!\n"
          ],
          "name": "stdout"
        },
        {
          "output_type": "execute_result",
          "data": {
            "text/plain": [
              "True"
            ]
          },
          "metadata": {
            "tags": []
          },
          "execution_count": 2
        }
      ]
    },
    {
      "cell_type": "code",
      "metadata": {
        "id": "eCO4y2lOBA9x",
        "colab_type": "code",
        "colab": {
          "base_uri": "https://localhost:8080/",
          "height": 119
        },
        "outputId": "0a334104-f161-4010-dae3-6b33e33ebc97"
      },
      "source": [
        "import pandas as pd\n",
        "\n",
        "col_names = ['sentiment','id','date','query_string','user','text']\n",
        "data_path = '/content/training.1600000.processed.noemoticon.csv'\n",
        "\n",
        "data = pd.read_csv(data_path, header=None, names=col_names, encoding=\"ISO-8859-1\").sample(frac=1) # .sample(frac=1) shuffles the data\n",
        "data = data[['sentiment', 'text']] # Disregard other columns\n",
        "print(data.head())"
      ],
      "execution_count": 4,
      "outputs": [
        {
          "output_type": "stream",
          "text": [
            "        sentiment                                               text\n",
            "135312          0  @stoptheqtip I think it is 40 marks out of 90 ...\n",
            "511800          0  OMG i missed saying it was my 50th update  Any...\n",
            "994982          4  @1Superstar We're going to be good friends...L...\n",
            "564167          0  @NathalieCaron I don't know what his deal is, ...\n",
            "120243          0           killer sore throat!   its making me sad.\n"
          ],
          "name": "stdout"
        }
      ]
    },
    {
      "cell_type": "code",
      "metadata": {
        "id": "GfDeRIgP8TTl",
        "colab_type": "code",
        "colab": {
          "base_uri": "https://localhost:8080/",
          "height": 204
        },
        "outputId": "40f9076d-e3de-4713-a88d-6c399662e0b5"
      },
      "source": [
        "data=data[[\"text\",\"sentiment\"]]\n",
        "data.head()"
      ],
      "execution_count": 5,
      "outputs": [
        {
          "output_type": "execute_result",
          "data": {
            "text/html": [
              "<div>\n",
              "<style scoped>\n",
              "    .dataframe tbody tr th:only-of-type {\n",
              "        vertical-align: middle;\n",
              "    }\n",
              "\n",
              "    .dataframe tbody tr th {\n",
              "        vertical-align: top;\n",
              "    }\n",
              "\n",
              "    .dataframe thead th {\n",
              "        text-align: right;\n",
              "    }\n",
              "</style>\n",
              "<table border=\"1\" class=\"dataframe\">\n",
              "  <thead>\n",
              "    <tr style=\"text-align: right;\">\n",
              "      <th></th>\n",
              "      <th>text</th>\n",
              "      <th>sentiment</th>\n",
              "    </tr>\n",
              "  </thead>\n",
              "  <tbody>\n",
              "    <tr>\n",
              "      <th>135312</th>\n",
              "      <td>@stoptheqtip I think it is 40 marks out of 90 ...</td>\n",
              "      <td>0</td>\n",
              "    </tr>\n",
              "    <tr>\n",
              "      <th>511800</th>\n",
              "      <td>OMG i missed saying it was my 50th update  Any...</td>\n",
              "      <td>0</td>\n",
              "    </tr>\n",
              "    <tr>\n",
              "      <th>994982</th>\n",
              "      <td>@1Superstar We're going to be good friends...L...</td>\n",
              "      <td>4</td>\n",
              "    </tr>\n",
              "    <tr>\n",
              "      <th>564167</th>\n",
              "      <td>@NathalieCaron I don't know what his deal is, ...</td>\n",
              "      <td>0</td>\n",
              "    </tr>\n",
              "    <tr>\n",
              "      <th>120243</th>\n",
              "      <td>killer sore throat!   its making me sad.</td>\n",
              "      <td>0</td>\n",
              "    </tr>\n",
              "  </tbody>\n",
              "</table>\n",
              "</div>"
            ],
            "text/plain": [
              "                                                     text  sentiment\n",
              "135312  @stoptheqtip I think it is 40 marks out of 90 ...          0\n",
              "511800  OMG i missed saying it was my 50th update  Any...          0\n",
              "994982  @1Superstar We're going to be good friends...L...          4\n",
              "564167  @NathalieCaron I don't know what his deal is, ...          0\n",
              "120243           killer sore throat!   its making me sad.          0"
            ]
          },
          "metadata": {
            "tags": []
          },
          "execution_count": 5
        }
      ]
    },
    {
      "cell_type": "code",
      "metadata": {
        "id": "8QBj9IMq8TTr",
        "colab_type": "code",
        "colab": {
          "base_uri": "https://localhost:8080/",
          "height": 34
        },
        "outputId": "b55c4b0e-bbfa-4f90-c93f-d1fcf4a13e2c"
      },
      "source": [
        "gc.collect()"
      ],
      "execution_count": 6,
      "outputs": [
        {
          "output_type": "execute_result",
          "data": {
            "text/plain": [
              "33"
            ]
          },
          "metadata": {
            "tags": []
          },
          "execution_count": 6
        }
      ]
    },
    {
      "cell_type": "code",
      "metadata": {
        "id": "VuhtWffc8TTw",
        "colab_type": "code",
        "colab": {}
      },
      "source": [
        "data.loc[data['sentiment']==4,'sentiment']=1"
      ],
      "execution_count": 7,
      "outputs": []
    },
    {
      "cell_type": "code",
      "metadata": {
        "id": "z5lS7l1p8TT2",
        "colab_type": "code",
        "colab": {
          "base_uri": "https://localhost:8080/",
          "height": 68
        },
        "outputId": "0aa3bbd6-8090-49d5-9361-a37930c05dc7"
      },
      "source": [
        "data.sentiment.value_counts()"
      ],
      "execution_count": 8,
      "outputs": [
        {
          "output_type": "execute_result",
          "data": {
            "text/plain": [
              "1    800000\n",
              "0    800000\n",
              "Name: sentiment, dtype: int64"
            ]
          },
          "metadata": {
            "tags": []
          },
          "execution_count": 8
        }
      ]
    },
    {
      "cell_type": "code",
      "metadata": {
        "id": "lQwpyKjP8TT8",
        "colab_type": "code",
        "colab": {
          "base_uri": "https://localhost:8080/",
          "height": 407
        },
        "outputId": "bc675e2f-e310-4920-94aa-cdaa1b2b0f07"
      },
      "source": [
        "ax=data.sentiment.value_counts().plot(kind='barh',figsize=(8,6),title=\"Distribution of Labels\")\n",
        "ax.set_yticklabels(['Negative','Positive'], rotation=0)\n"
      ],
      "execution_count": 9,
      "outputs": [
        {
          "output_type": "execute_result",
          "data": {
            "text/plain": [
              "[Text(0, 0, 'Negative'), Text(0, 0, 'Positive')]"
            ]
          },
          "metadata": {
            "tags": []
          },
          "execution_count": 9
        },
        {
          "output_type": "display_data",
          "data": {
            "image/png": "[encoded data removed]",
            "text/plain": [
              "<Figure size 576x432 with 1 Axes>"
            ]
          },
          "metadata": {
            "tags": [],
            "needs_background": "light"
          }
        }
      ]
    },
    {
      "cell_type": "code",
      "metadata": {
        "id": "1U8V6dg3DEKK",
        "colab_type": "code",
        "colab": {
          "base_uri": "https://localhost:8080/",
          "height": 68
        },
        "outputId": "36734d75-680f-4fd7-9916-a18f6be1e4e2"
      },
      "source": [
        "nltk.download('stopwords')"
      ],
      "execution_count": 11,
      "outputs": [
        {
          "output_type": "stream",
          "text": [
            "[nltk_data] Downloading package stopwords to /root/nltk_data...\n",
            "[nltk_data]   Unzipping corpora/stopwords.zip.\n"
          ],
          "name": "stdout"
        },
        {
          "output_type": "execute_result",
          "data": {
            "text/plain": [
              "True"
            ]
          },
          "metadata": {
            "tags": []
          },
          "execution_count": 11
        }
      ]
    },
    {
      "cell_type": "code",
      "metadata": {
        "id": "Cal7wUIt8TUJ",
        "colab_type": "code",
        "colab": {}
      },
      "source": [
        "#Converting Tweets to LowerCase\n",
        "data[\"text\"]=data.text.str.lower()\n",
        "\n",
        "#Replacing Links with \"URL\"\n",
        "data[\"text\"]=data[\"text\"].str.replace(r'https?://[^\\s<>\"]+|www\\.[^\\s<>\"]+', \"URL\")\n",
        "\n",
        "#Removing the Usernames\n",
        "data[\"text\"]=data[\"text\"].str.replace(r'@[^\\s]+',\"\")\n",
        "\n",
        "#Removing all Non Alpha Numeric Characters\n",
        "data[\"text\"]=data[\"text\"].str.replace(r'[^A-Za-z0-9 ]+',\"\")\n",
        "\n",
        "#Removng Stopwords\n",
        "stop_words = stopwords.words('english') \n",
        "data['text'] = data['text'].apply(lambda x: ' '.join([word for word in x.split() if word not in (stop_words)]))\n",
        "\n",
        "\n",
        "#Lementize\n",
        "wordlem = WordNetLemmatizer()\n",
        "data['text']=data['text'].apply(lambda x: ' '.join([wordlem.lemmatize(word) for word in x.split()]))\n",
        "\n",
        "\n",
        "\n",
        "# df[''] = df['Links'].apply(lambda x: re.split('https:\\/\\/.*', str(x))[0])\n"
      ],
      "execution_count": 12,
      "outputs": []
    },
    {
      "cell_type": "code",
      "metadata": {
        "id": "xAbaIMlF8TUM",
        "colab_type": "code",
        "colab": {
          "base_uri": "https://localhost:8080/",
          "height": 204
        },
        "outputId": "c585a959-3868-49df-9bbf-2861dcd9c9a2"
      },
      "source": [
        "data.head()"
      ],
      "execution_count": 13,
      "outputs": [
        {
          "output_type": "execute_result",
          "data": {
            "text/html": [
              "<div>\n",
              "<style scoped>\n",
              "    .dataframe tbody tr th:only-of-type {\n",
              "        vertical-align: middle;\n",
              "    }\n",
              "\n",
              "    .dataframe tbody tr th {\n",
              "        vertical-align: top;\n",
              "    }\n",
              "\n",
              "    .dataframe thead th {\n",
              "        text-align: right;\n",
              "    }\n",
              "</style>\n",
              "<table border=\"1\" class=\"dataframe\">\n",
              "  <thead>\n",
              "    <tr style=\"text-align: right;\">\n",
              "      <th></th>\n",
              "      <th>text</th>\n",
              "      <th>sentiment</th>\n",
              "    </tr>\n",
              "  </thead>\n",
              "  <tbody>\n",
              "    <tr>\n",
              "      <th>135312</th>\n",
              "      <td>think 40 mark 90 suck really answer wasnt bad ...</td>\n",
              "      <td>0</td>\n",
              "    </tr>\n",
              "    <tr>\n",
              "      <th>511800</th>\n",
              "      <td>omg missed saying 50th update anyway here rash...</td>\n",
              "      <td>0</td>\n",
              "    </tr>\n",
              "    <tr>\n",
              "      <th>994982</th>\n",
              "      <td>going good friendslollove ya</td>\n",
              "      <td>1</td>\n",
              "    </tr>\n",
              "    <tr>\n",
              "      <th>564167</th>\n",
              "      <td>dont know deal lol wish could bad boy good u m...</td>\n",
              "      <td>0</td>\n",
              "    </tr>\n",
              "    <tr>\n",
              "      <th>120243</th>\n",
              "      <td>killer sore throat making sad</td>\n",
              "      <td>0</td>\n",
              "    </tr>\n",
              "  </tbody>\n",
              "</table>\n",
              "</div>"
            ],
            "text/plain": [
              "                                                     text  sentiment\n",
              "135312  think 40 mark 90 suck really answer wasnt bad ...          0\n",
              "511800  omg missed saying 50th update anyway here rash...          0\n",
              "994982                       going good friendslollove ya          1\n",
              "564167  dont know deal lol wish could bad boy good u m...          0\n",
              "120243                      killer sore throat making sad          0"
            ]
          },
          "metadata": {
            "tags": []
          },
          "execution_count": 13
        }
      ]
    },
    {
      "cell_type": "code",
      "metadata": {
        "id": "clhYcknO8TUU",
        "colab_type": "code",
        "colab": {}
      },
      "source": [
        "X_train, X_test, y_train, y_test = train_test_split(data['text'], data['sentiment'],test_size = 0.10, random_state = 0)"
      ],
      "execution_count": 14,
      "outputs": []
    },
    {
      "cell_type": "code",
      "metadata": {
        "id": "sVGOpbvf8TUb",
        "colab_type": "code",
        "colab": {
          "base_uri": "https://localhost:8080/",
          "height": 34
        },
        "outputId": "44ef7094-38c9-4748-a31a-036a4fc1d9d6"
      },
      "source": [
        "X_train.shape,X_test.shape"
      ],
      "execution_count": 15,
      "outputs": [
        {
          "output_type": "execute_result",
          "data": {
            "text/plain": [
              "((1440000,), (160000,))"
            ]
          },
          "metadata": {
            "tags": []
          },
          "execution_count": 15
        }
      ]
    },
    {
      "cell_type": "code",
      "metadata": {
        "id": "USWTN_nw8TUh",
        "colab_type": "code",
        "colab": {
          "base_uri": "https://localhost:8080/",
          "height": 136
        },
        "outputId": "eeb6ba87-2c55-4d69-b5d6-8b8d7884b738"
      },
      "source": [
        "#Vectorsing the Tweets\n",
        "vectorizer=TfidfVectorizer(max_df=0.9,min_df=20,max_features=10000,ngram_range=(1,3))\n",
        "vectorizer.fit(X_train)"
      ],
      "execution_count": 16,
      "outputs": [
        {
          "output_type": "execute_result",
          "data": {
            "text/plain": [
              "TfidfVectorizer(analyzer='word', binary=False, decode_error='strict',\n",
              "                dtype=<class 'numpy.float64'>, encoding='utf-8',\n",
              "                input='content', lowercase=True, max_df=0.9, max_features=10000,\n",
              "                min_df=20, ngram_range=(1, 3), norm='l2', preprocessor=None,\n",
              "                smooth_idf=True, stop_words=None, strip_accents=None,\n",
              "                sublinear_tf=False, token_pattern='(?u)\\\\b\\\\w\\\\w+\\\\b',\n",
              "                tokenizer=None, use_idf=True, vocabulary=None)"
            ]
          },
          "metadata": {
            "tags": []
          },
          "execution_count": 16
        }
      ]
    },
    {
      "cell_type": "code",
      "metadata": {
        "id": "DN_AMvVt8TUq",
        "colab_type": "code",
        "colab": {
          "base_uri": "https://localhost:8080/",
          "height": 34
        },
        "outputId": "6e8ab739-403e-4cd5-d7b1-be0bb62c44b1"
      },
      "source": [
        "print (\"Vocab Size:\",len(vectorizer.get_feature_names()))"
      ],
      "execution_count": 17,
      "outputs": [
        {
          "output_type": "stream",
          "text": [
            "Vocab Size: 10000\n"
          ],
          "name": "stdout"
        }
      ]
    },
    {
      "cell_type": "code",
      "metadata": {
        "id": "TJwXMC0d8TUv",
        "colab_type": "code",
        "colab": {}
      },
      "source": [
        "# Applyting TF-ID\n",
        "X_train=vectorizer.transform(X_train)\n",
        "X_test=vectorizer.transform(X_test)"
      ],
      "execution_count": 18,
      "outputs": []
    },
    {
      "cell_type": "code",
      "metadata": {
        "id": "E_8Hm3IY8TUz",
        "colab_type": "code",
        "colab": {
          "base_uri": "https://localhost:8080/",
          "height": 34
        },
        "outputId": "481c3ea4-08d3-4569-893a-cf8ea697b2c2"
      },
      "source": [
        "X_train.shape"
      ],
      "execution_count": 19,
      "outputs": [
        {
          "output_type": "execute_result",
          "data": {
            "text/plain": [
              "(1440000, 10000)"
            ]
          },
          "metadata": {
            "tags": []
          },
          "execution_count": 19
        }
      ]
    },
    {
      "cell_type": "code",
      "metadata": {
        "id": "UHyheqJI8TU4",
        "colab_type": "code",
        "colab": {
          "base_uri": "https://localhost:8080/",
          "height": 863
        },
        "outputId": "9353475c-d60d-4195-b64c-e598fded1cc7"
      },
      "source": [
        "#Training Logitistic Regression\n",
        "lr=LogisticRegression(verbose=3,max_iter=100)\n",
        "lr.fit(X_train,y_train)\n",
        "print ('Training....')\n",
        "\n",
        "pred=lr.predict(X_test)\n",
        "acc=accuracy_score(y_test,pred)\n",
        "f1=f1_score(y_test,pred)\n",
        "confussion=confusion_matrix(y_test,pred,labels=[0,1])\n",
        "print (\"Acc: \",acc)\n",
        "print (\"F1 Score: \",f1)\n",
        "\n",
        "\n",
        "fig, ax = plot_confusion_matrix(conf_mat=confussion,\n",
        "                                show_absolute=True,\n",
        "                                show_normed=True,\n",
        "                                colorbar=True,\n",
        "                               figsize=(10,10))\n",
        "plt.title('Confussion Matrix')"
      ],
      "execution_count": 20,
      "outputs": [
        {
          "output_type": "stream",
          "text": [
            "[Parallel(n_jobs=1)]: Using backend SequentialBackend with 1 concurrent workers.\n",
            "/usr/local/lib/python3.6/dist-packages/sklearn/linear_model/_logistic.py:940: ConvergenceWarning:\n",
            "\n",
            "lbfgs failed to converge (status=1):\n",
            "STOP: TOTAL NO. of ITERATIONS REACHED LIMIT.\n",
            "\n",
            "Increase the number of iterations (max_iter) or scale the data as shown in:\n",
            "    https://scikit-learn.org/stable/modules/preprocessing.html\n",
            "Please also refer to the documentation for alternative solver options:\n",
            "    https://scikit-learn.org/stable/modules/linear_model.html#logistic-regression\n",
            "\n",
            "[Parallel(n_jobs=1)]: Done   1 out of   1 | elapsed:   25.4s remaining:    0.0s\n",
            "[Parallel(n_jobs=1)]: Done   1 out of   1 | elapsed:   25.4s finished\n"
          ],
          "name": "stderr"
        },
        {
          "output_type": "stream",
          "text": [
            "Training....\n",
            "Acc:  0.78545625\n",
            "F1 Score:  0.7888257983549981\n"
          ],
          "name": "stdout"
        },
        {
          "output_type": "execute_result",
          "data": {
            "text/plain": [
              "Text(0.5, 1.05, 'Confussion Matrix')"
            ]
          },
          "metadata": {
            "tags": []
          },
          "execution_count": 20
        },
        {
          "output_type": "display_data",
          "data": {
            "image/png": "[encoded data removed]",
            "text/plain": [
              "<Figure size 720x720 with 2 Axes>"
            ]
          },
          "metadata": {
            "tags": [],
            "needs_background": "light"
          }
        }
      ]
    },
    {
      "cell_type": "code",
      "metadata": {
        "id": "K8K4T2Kv8TU8",
        "colab_type": "code",
        "colab": {
          "base_uri": "https://localhost:8080/",
          "height": 626
        },
        "outputId": "b1e70291-7c0c-42ca-95a0-2342515bff83"
      },
      "source": [
        "# BNB\n",
        "bnb = BernoulliNB()\n",
        "bnb.fit(X_train, y_train)\n",
        "pred=bnb.predict(X_test)\n",
        "acc=accuracy_score(y_test,pred)\n",
        "f1=f1_score(y_test,pred)\n",
        "confussion=confusion_matrix(y_test,pred,labels=[0,1])\n",
        "\n",
        "print (\"Acc: \",acc)\n",
        "print (\"F1 Score: \",f1)\n",
        "\n",
        "fig, ax = plot_confusion_matrix(conf_mat=confussion,\n",
        "                                show_absolute=True,\n",
        "                                show_normed=True,\n",
        "                                colorbar=True,\n",
        "                               figsize=(10,10))\n",
        "plt.title('Confussion Matrix')"
      ],
      "execution_count": 21,
      "outputs": [
        {
          "output_type": "stream",
          "text": [
            "Acc:  0.76923125\n",
            "F1 Score:  0.7741090820103392\n"
          ],
          "name": "stdout"
        },
        {
          "output_type": "execute_result",
          "data": {
            "text/plain": [
              "Text(0.5, 1.05, 'Confussion Matrix')"
            ]
          },
          "metadata": {
            "tags": []
          },
          "execution_count": 21
        },
        {
          "output_type": "display_data",
          "data": {
            "image/png": "[encoded data removed]",
            "text/plain": [
              "<Figure size 720x720 with 2 Axes>"
            ]
          },
          "metadata": {
            "tags": [],
            "needs_background": "light"
          }
        }
      ]
    },
    {
      "cell_type": "code",
      "metadata": {
        "id": "z9zg0UzC8TVI",
        "colab_type": "code",
        "colab": {
          "base_uri": "https://localhost:8080/",
          "height": 625
        },
        "outputId": "ad575846-24e0-45f0-d1ea-db89b7b9a9b4"
      },
      "source": [
        "# SVC\n",
        "svc = LinearSVC()\n",
        "svc.fit(X_train, y_train)\n",
        "pred=svc.predict(X_test)\n",
        "acc=accuracy_score(y_test,pred)\n",
        "f1=f1_score(y_test,pred)\n",
        "confussion=confusion_matrix(y_test,pred,labels=[0,1])\n",
        "\n",
        "print (\"Acc: \",acc)\n",
        "print (\"F1 Score: \",f1)\n",
        "\n",
        "fig, ax = plot_confusion_matrix(conf_mat=confussion,\n",
        "                                show_absolute=True,\n",
        "                                show_normed=True,\n",
        "                                colorbar=True,\n",
        "                               figsize=(10,10))\n",
        "plt.title('Confussion Matrix')"
      ],
      "execution_count": 22,
      "outputs": [
        {
          "output_type": "stream",
          "text": [
            "Acc:  0.78455625\n",
            "F1 Score:  0.7889474618714374\n"
          ],
          "name": "stdout"
        },
        {
          "output_type": "execute_result",
          "data": {
            "text/plain": [
              "Text(0.5, 1.05, 'Confussion Matrix')"
            ]
          },
          "metadata": {
            "tags": []
          },
          "execution_count": 22
        },
        {
          "output_type": "display_data",
          "data": {
            "image/png": "[encoded data removed]",
            "text/plain": [
              "<Figure size 720x720 with 2 Axes>"
            ]
          },
          "metadata": {
            "tags": [],
            "needs_background": "light"
          }
        }
      ]
    },
    {
      "cell_type": "code",
      "metadata": {
        "id": "m6g4IRNj8TVR",
        "colab_type": "code",
        "colab": {
          "base_uri": "https://localhost:8080/",
          "height": 625
        },
        "outputId": "22b7c9b6-0b34-4620-833b-ee8917b6452e"
      },
      "source": [
        "# SVC\n",
        "nb = MultinomialNB()\n",
        "nb.fit(X_train, y_train)\n",
        "pred=nb.predict(X_test)\n",
        "acc=accuracy_score(y_test,pred)\n",
        "f1=f1_score(y_test,pred)\n",
        "confussion=confusion_matrix(y_test,pred,labels=[0,1])\n",
        "\n",
        "print (\"Acc: \",acc)\n",
        "print (\"F1 Score: \",f1)\n",
        "\n",
        "fig, ax = plot_confusion_matrix(conf_mat=confussion,\n",
        "                                show_absolute=True,\n",
        "                                show_normed=True,\n",
        "                                colorbar=True,\n",
        "                               figsize=(10,10))\n",
        "plt.title('Confussion Matrix')"
      ],
      "execution_count": 23,
      "outputs": [
        {
          "output_type": "stream",
          "text": [
            "Acc:  0.769125\n",
            "F1 Score:  0.7700963429510319\n"
          ],
          "name": "stdout"
        },
        {
          "output_type": "execute_result",
          "data": {
            "text/plain": [
              "Text(0.5, 1.05, 'Confussion Matrix')"
            ]
          },
          "metadata": {
            "tags": []
          },
          "execution_count": 23
        },
        {
          "output_type": "display_data",
          "data": {
            "image/png": "[encoded data removed]",
            "text/plain": [
              "<Figure size 720x720 with 2 Axes>"
            ]
          },
          "metadata": {
            "tags": [],
            "needs_background": "light"
          }
        }
      ]
    },
    {
      "cell_type": "code",
      "metadata": {
        "id": "QQDgczfH8TVX",
        "colab_type": "code",
        "colab": {
          "base_uri": "https://localhost:8080/",
          "height": 625
        },
        "outputId": "b908af6e-4321-4477-caef-6f5bc5649095"
      },
      "source": [
        "params={'eta': 0.1,\n",
        " 'objective':'binary:logistic',\n",
        " 'max_depth': 6,\n",
        " 'n_estimators': 20,\n",
        " 'early_stopping_rounds': 10,\n",
        " 'n_jobs': -1,\n",
        " 'verbose': 1\n",
        " }\n",
        "\n",
        "# xg_train=xgboost.DMatrix(X_train,label=Y_train)\n",
        "# model=xgboost.XGBClassifier()train(params,xg_train,50)\n",
        "\n",
        "xg=xgboost.XGBClassifier(**params)\n",
        "xg.fit(X_train,y_train)\n",
        "\n",
        "pred=xg.predict(X_test)\n",
        "acc=accuracy_score(y_test,pred)\n",
        "f1=f1_score(y_test,pred)\n",
        "confussion=confusion_matrix(y_test,pred,labels=[0,1])\n",
        "\n",
        "print (\"Acc: \",acc)\n",
        "print (\"F1 Score: \",f1)\n",
        "\n",
        "fig, ax = plot_confusion_matrix(conf_mat=confussion,\n",
        "                                show_absolute=True,\n",
        "                                show_normed=True,\n",
        "                                colorbar=True,\n",
        "                               figsize=(10,10))\n",
        "plt.title('Confussion Matrix')"
      ],
      "execution_count": 24,
      "outputs": [
        {
          "output_type": "stream",
          "text": [
            "Acc:  0.65734375\n",
            "F1 Score:  0.7210619234898169\n"
          ],
          "name": "stdout"
        },
        {
          "output_type": "execute_result",
          "data": {
            "text/plain": [
              "Text(0.5, 1.05, 'Confussion Matrix')"
            ]
          },
          "metadata": {
            "tags": []
          },
          "execution_count": 24
        },
        {
          "output_type": "display_data",
          "data": {
            "image/png": "[encoded data removed]",
            "text/plain": [
              "<Figure size 720x720 with 2 Axes>"
            ]
          },
          "metadata": {
            "tags": [],
            "needs_background": "light"
          }
        }
      ]
    },
    {
      "cell_type": "code",
      "metadata": {
        "id": "UdkYxB5D8TVb",
        "colab_type": "code",
        "colab": {}
      },
      "source": [
        "def preprocess(tweet):\n",
        "    #LowerCase \n",
        "    tweet=tweet.lower()\n",
        "\n",
        "    #Replacing URL\n",
        "    tweet=tweet.replace(r'https?://[^\\s<>\"]+|www\\.[^\\s<>\"]+', \"URL\")\n",
        "\n",
        "    #Removing Username\n",
        "    tweet=tweet.replace(r'@[^\\s]+',\"\")\n",
        "\n",
        "    #Removing Non-Alpha Numeric Chars\n",
        "    tweet=tweet.replace(r'[^A-Za-z0-9 ]+',\"\")\n",
        "\n",
        "\n",
        "    stop_words = stopwords.words('english') \n",
        "    text_tokens = word_tokenize(tweet)\n",
        "    tokens_without_sw = [word for word in text_tokens if not word in stop_words]\n",
        "    \n",
        "\n",
        "    #Lementize\n",
        "    wordlem = WordNetLemmatizer()\n",
        "    tokens_without_sw=[wordlem.lemmatize(word) for word in tokens_without_sw]\n",
        "    filtered_sentence = (\" \").join(tokens_without_sw)\n",
        "\n",
        "\n",
        "\n",
        "    return filtered_sentence"
      ],
      "execution_count": 25,
      "outputs": []
    },
    {
      "cell_type": "code",
      "metadata": {
        "id": "X2zKXezfEitr",
        "colab_type": "code",
        "colab": {
          "base_uri": "https://localhost:8080/",
          "height": 68
        },
        "outputId": "63c426c8-c61b-4cff-a3db-8887f47cd7ff"
      },
      "source": [
        "nltk.download('punkt')"
      ],
      "execution_count": 27,
      "outputs": [
        {
          "output_type": "stream",
          "text": [
            "[nltk_data] Downloading package punkt to /root/nltk_data...\n",
            "[nltk_data]   Unzipping tokenizers/punkt.zip.\n"
          ],
          "name": "stdout"
        },
        {
          "output_type": "execute_result",
          "data": {
            "text/plain": [
              "True"
            ]
          },
          "metadata": {
            "tags": []
          },
          "execution_count": 27
        }
      ]
    },
    {
      "cell_type": "code",
      "metadata": {
        "id": "hi5Obn3N8TVf",
        "colab_type": "code",
        "colab": {
          "base_uri": "https://localhost:8080/",
          "height": 34
        },
        "outputId": "eefacb5f-33bf-49ab-91fd-fb4a5de6fe2c"
      },
      "source": [
        "#Testing \n",
        "tweet=\"I am sad\"\n",
        "tweet=preprocess(tweet)\n",
        "tweet=vectorizer.transform([tweet])\n",
        "lr.predict(tweet)"
      ],
      "execution_count": 28,
      "outputs": [
        {
          "output_type": "execute_result",
          "data": {
            "text/plain": [
              "array([0])"
            ]
          },
          "metadata": {
            "tags": []
          },
          "execution_count": 28
        }
      ]
    },
    {
      "cell_type": "code",
      "metadata": {
        "id": "6OfEQHSg8TVk",
        "colab_type": "code",
        "colab": {}
      },
      "source": [
        "file = open('tfidf-ngram-(1,3).pickle','wb')\n",
        "pickle.dump(vectorizer, file)\n",
        "file.close()\n",
        "\n",
        "file = open('lr.pickle','wb')\n",
        "pickle.dump(lr, file)\n",
        "file.close()\n",
        "\n",
        "file = open('svc.pickle','wb')\n",
        "pickle.dump(svc, file)\n",
        "file.close()"
      ],
      "execution_count": 29,
      "outputs": []
    },
    {
      "cell_type": "code",
      "metadata": {
        "id": "IEWcd_1T8TVr",
        "colab_type": "code",
        "colab": {}
      },
      "source": [
        "def load_models():\n",
        "    # Load the vectoriser.\n",
        "    file = open('tfidf-ngram-(1,3).pickle', 'rb')\n",
        "    vectorizer = pickle.load(file)\n",
        "    file.close()\n",
        "    \n",
        "    # Load the LR Model.\n",
        "    file = open('lr.pickle', 'rb')\n",
        "    lr = pickle.load(file)\n",
        "    file.close()\n",
        "    \n",
        "    return vectorizer, lr\n",
        "\n",
        "\n",
        "\n",
        "def predict(vectorizer,model,tweets):\n",
        "\n",
        "    preproc=[]\n",
        "    for tweet in tweets:\n",
        "        preproc.append(preprocess(tweet))\n",
        "\n",
        "    vect=vectorizer.transform(preproc)\n",
        "    sent=model.predict(vect)\n",
        "\n",
        "    data = []\n",
        "    for text, pred in zip(tweets, sent):\n",
        "        data.append((text,pred))\n",
        "\n",
        "    df=pd.DataFrame(data,columns=[\"Tweets\",\"Sentiment\"])\n",
        "    df = df.replace([0,1], [\"Negative\",\"Positive\"])\n",
        "\n",
        "    return df\n",
        "\n"
      ],
      "execution_count": 30,
      "outputs": []
    },
    {
      "cell_type": "code",
      "metadata": {
        "id": "JcFckq0n8TVu",
        "colab_type": "code",
        "colab": {}
      },
      "source": [
        "vect,model=load_models()\n",
        "tdf=predict(vect,model,[\"I am happy\",\"I am sad\"])"
      ],
      "execution_count": 31,
      "outputs": []
    },
    {
      "cell_type": "code",
      "metadata": {
        "id": "LTrCNUKV8TVy",
        "colab_type": "code",
        "colab": {
          "base_uri": "https://localhost:8080/",
          "height": 111
        },
        "outputId": "3bba1eb5-9127-4945-801b-4e4465a848e9"
      },
      "source": [
        "tdf"
      ],
      "execution_count": 32,
      "outputs": [
        {
          "output_type": "execute_result",
          "data": {
            "text/html": [
              "<div>\n",
              "<style scoped>\n",
              "    .dataframe tbody tr th:only-of-type {\n",
              "        vertical-align: middle;\n",
              "    }\n",
              "\n",
              "    .dataframe tbody tr th {\n",
              "        vertical-align: top;\n",
              "    }\n",
              "\n",
              "    .dataframe thead th {\n",
              "        text-align: right;\n",
              "    }\n",
              "</style>\n",
              "<table border=\"1\" class=\"dataframe\">\n",
              "  <thead>\n",
              "    <tr style=\"text-align: right;\">\n",
              "      <th></th>\n",
              "      <th>Tweets</th>\n",
              "      <th>Sentiment</th>\n",
              "    </tr>\n",
              "  </thead>\n",
              "  <tbody>\n",
              "    <tr>\n",
              "      <th>0</th>\n",
              "      <td>I am happy</td>\n",
              "      <td>Positive</td>\n",
              "    </tr>\n",
              "    <tr>\n",
              "      <th>1</th>\n",
              "      <td>I am sad</td>\n",
              "      <td>Negative</td>\n",
              "    </tr>\n",
              "  </tbody>\n",
              "</table>\n",
              "</div>"
            ],
            "text/plain": [
              "       Tweets Sentiment\n",
              "0  I am happy  Positive\n",
              "1    I am sad  Negative"
            ]
          },
          "metadata": {
            "tags": []
          },
          "execution_count": 32
        }
      ]
    },
    {
      "cell_type": "code",
      "metadata": {
        "id": "fVEkQwC48TV1",
        "colab_type": "code",
        "colab": {
          "base_uri": "https://localhost:8080/",
          "height": 34
        },
        "outputId": "ab72df63-6223-466b-b046-10fb37430f01"
      },
      "source": [
        "from textblob import TextBlob\n",
        "testimonial = TextBlob(\"this notebook helps you to understand. It is so good\")\n",
        "testimonial.sentiment"
      ],
      "execution_count": 33,
      "outputs": [
        {
          "output_type": "execute_result",
          "data": {
            "text/plain": [
              "Sentiment(polarity=0.7, subjectivity=0.6000000000000001)"
            ]
          },
          "metadata": {
            "tags": []
          },
          "execution_count": 33
        }
      ]
    },
    {
      "cell_type": "code",
      "metadata": {
        "id": "TiNrhNtG8TV6",
        "colab_type": "code",
        "colab": {
          "base_uri": "https://localhost:8080/",
          "height": 351
        },
        "outputId": "c131345c-ff50-4abb-c011-40bda8cc74f1"
      },
      "source": [
        "from vaderSentiment.vaderSentiment import SentimentIntensityAnalyzer\n",
        "analyzer = SentimentIntensityAnalyzer()\n",
        "vs = analyzer.polarity_scores(X_test[0])\n",
        "vs"
      ],
      "execution_count": 34,
      "outputs": [
        {
          "output_type": "error",
          "ename": "ModuleNotFoundError",
          "evalue": "ignored",
          "traceback": [
            "\u001b[0;31m---------------------------------------------------------------------------\u001b[0m",
            "\u001b[0;31mModuleNotFoundError\u001b[0m                       Traceback (most recent call last)",
            "\u001b[0;32m<ipython-input-34-98df84e64fbf>\u001b[0m in \u001b[0;36m<module>\u001b[0;34m()\u001b[0m\n\u001b[0;32m----> 1\u001b[0;31m \u001b[0;32mfrom\u001b[0m \u001b[0mvaderSentiment\u001b[0m\u001b[0;34m.\u001b[0m\u001b[0mvaderSentiment\u001b[0m \u001b[0;32mimport\u001b[0m \u001b[0mSentimentIntensityAnalyzer\u001b[0m\u001b[0;34m\u001b[0m\u001b[0;34m\u001b[0m\u001b[0m\n\u001b[0m\u001b[1;32m      2\u001b[0m \u001b[0manalyzer\u001b[0m \u001b[0;34m=\u001b[0m \u001b[0mSentimentIntensityAnalyzer\u001b[0m\u001b[0;34m(\u001b[0m\u001b[0;34m)\u001b[0m\u001b[0;34m\u001b[0m\u001b[0;34m\u001b[0m\u001b[0m\n\u001b[1;32m      3\u001b[0m \u001b[0mvs\u001b[0m \u001b[0;34m=\u001b[0m \u001b[0manalyzer\u001b[0m\u001b[0;34m.\u001b[0m\u001b[0mpolarity_scores\u001b[0m\u001b[0;34m(\u001b[0m\u001b[0mX_test\u001b[0m\u001b[0;34m[\u001b[0m\u001b[0;36m0\u001b[0m\u001b[0;34m]\u001b[0m\u001b[0;34m)\u001b[0m\u001b[0;34m\u001b[0m\u001b[0;34m\u001b[0m\u001b[0m\n\u001b[1;32m      4\u001b[0m \u001b[0mvs\u001b[0m\u001b[0;34m\u001b[0m\u001b[0;34m\u001b[0m\u001b[0m\n",
            "\u001b[0;31mModuleNotFoundError\u001b[0m: No module named 'vaderSentiment'",
            "",
            "\u001b[0;31m---------------------------------------------------------------------------\u001b[0;32m\nNOTE: If your import is failing due to a missing package, you can\nmanually install dependencies using either !pip or !apt.\n\nTo view examples of installing some common dependencies, click the\n\"Open Examples\" button below.\n\u001b[0;31m---------------------------------------------------------------------------\u001b[0m\n"
          ]
        }
      ]
    },
    {
      "cell_type": "code",
      "metadata": {
        "id": "L0XQ5YOM8TV8",
        "colab_type": "code",
        "colab": {}
      },
      "source": [
        ""
      ],
      "execution_count": null,
      "outputs": []
    },
    {
      "cell_type": "code",
      "metadata": {
        "id": "eYGuddyo8TV_",
        "colab_type": "code",
        "colab": {}
      },
      "source": [
        ""
      ],
      "execution_count": null,
      "outputs": []
    }
  ]
}